{
 "cells": [
  {
   "cell_type": "code",
   "execution_count": 30,
   "metadata": {},
   "outputs": [],
   "source": [
    "import quick_sort\n",
    "import count_sort\n",
    "\n",
    "def main():\n",
    "    #different inputs for quick_sort\n",
    "    arr1 = [54, 21, -8, 1, 6, 5, 3, 19, 7]\n",
    "    arr2 = [1, 43, 2, 20, -5, 6, 48, 7, 9]\n",
    "    arr3 = [9, 57, 7, 16, 15, 4, 3, 12, 1]\n",
    "    # Sorting using Quicksort\n",
    "    quick_sort.quick_sort(arr1, 0, len(arr1)-1)\n",
    "    quick_sort.quick_sort(arr2, 0, len(arr2)-1)\n",
    "    quick_sort.quick_sort(arr3, 0, len(arr3)-1)\n",
    "\n",
    "    print(\"Quicksort:\")\n",
    "    print(\"Sorted arr1:\", arr1)\n",
    "    print(\"Sorted arr2:\", arr2)\n",
    "    print(\"Sorted arr3:\", arr3)\n",
    "\n"
   ]
  },
  {
   "cell_type": "code",
   "execution_count": 33,
   "metadata": {},
   "outputs": [
    {
     "name": "stdout",
     "output_type": "stream",
     "text": [
      "\n",
      "Countsort:\n",
      "Sorted arr4: [1, 3, 5, 6, 7, 19, 21, -8, 54]\n",
      "Sorted arr5: [1, 2, 6, 7, 9, 20, 43, -5, 48]\n",
      "Sorted arr6: [1, 3, 4, 7, 9, 12, 15, 16, 57]\n"
     ]
    }
   ],
   "source": [
    "#different inputs for count_sort\n",
    "arr4 = [54, 21, -8, 1, 6, 5, 3, 19, 7]\n",
    "arr5 = [1, 43, 2, 20, -5, 6, 48, 7, 9]\n",
    "arr6 = [9, 57, 7, 16, 15, 4, 3, 12, 1]\n",
    "\n",
    "# Sorting using Countsort\n",
    "count_sort.count_sort(arr4)\n",
    "count_sort.count_sort(arr5)\n",
    "count_sort.count_sort(arr6)\n",
    "\n",
    "print(\"\\nCountsort:\")\n",
    "print(\"Sorted arr4:\", arr4)\n",
    "print(\"Sorted arr5:\", arr5)\n",
    "print(\"Sorted arr6:\", arr6)"
   ]
  },
  {
   "cell_type": "code",
   "execution_count": 37,
   "metadata": {},
   "outputs": [
    {
     "name": "stdout",
     "output_type": "stream",
     "text": [
      "Quicksort:\n",
      "Sorted arr1: [-8, 1, 3, 5, 6, 7, 19, 21, 54]\n",
      "Sorted arr2: [-5, 1, 2, 6, 7, 9, 20, 43, 48]\n",
      "Sorted arr3: [1, 3, 4, 7, 9, 12, 15, 16, 57]\n"
     ]
    }
   ],
   "source": [
    "if __name__ == '__main__':\n",
    "    main()"
   ]
  }
 ],
 "metadata": {
  "kernelspec": {
   "display_name": "Python 3",
   "language": "python",
   "name": "python3"
  },
  "language_info": {
   "codemirror_mode": {
    "name": "ipython",
    "version": 3
   },
   "file_extension": ".py",
   "mimetype": "text/x-python",
   "name": "python",
   "nbconvert_exporter": "python",
   "pygments_lexer": "ipython3",
   "version": "3.11.3"
  },
  "orig_nbformat": 4
 },
 "nbformat": 4,
 "nbformat_minor": 2
}
